{
 "cells": [
  {
   "cell_type": "code",
   "execution_count": 2,
   "metadata": {},
   "outputs": [],
   "source": [
    "import os\n",
    "# Function to rename multiple files\n",
    "def main():\n",
    "   i = 0\n",
    "   for filename in os.listdir(r'C:\\Users\\chmtr\\Desktop\\ML_raghu\\Database\\zebra'):\n",
    "       my_dest1=\"Image\" + str(i) + \".jpg\"\n",
    "       my_source = os.path.join(r'C:\\Users\\chmtr\\Desktop\\ML_raghu\\Database\\zebra',filename)\n",
    "      #my_source = r'C:\\Users\\chmtr\\Desktop\\ML_raghu\\Database\\cow'+filename\n",
    "       my_dest = os.path.join(r'C:\\Users\\chmtr\\Desktop\\ML_raghu\\Database\\zebra',my_dest1)\n",
    "       # rename() function will\n",
    "       # rename all the files\n",
    "      \n",
    "       os.rename(my_source, my_dest)\n",
    "       i += 1\n",
    "# Driver Code\n",
    "if __name__ == '__main__':\n",
    "   # Calling main() function\n",
    "   main()"
   ]
  },
  {
   "cell_type": "code",
   "execution_count": null,
   "metadata": {},
   "outputs": [],
   "source": []
  },
  {
   "cell_type": "code",
   "execution_count": null,
   "metadata": {},
   "outputs": [],
   "source": []
  },
  {
   "cell_type": "code",
   "execution_count": null,
   "metadata": {},
   "outputs": [],
   "source": []
  }
 ],
 "metadata": {
  "kernelspec": {
   "display_name": "Python 3",
   "language": "python",
   "name": "python3"
  },
  "language_info": {
   "codemirror_mode": {
    "name": "ipython",
    "version": 3
   },
   "file_extension": ".py",
   "mimetype": "text/x-python",
   "name": "python",
   "nbconvert_exporter": "python",
   "pygments_lexer": "ipython3",
   "version": "3.7.3"
  }
 },
 "nbformat": 4,
 "nbformat_minor": 4
}
